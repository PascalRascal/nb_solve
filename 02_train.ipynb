{
 "cells": [
  {
   "cell_type": "code",
   "execution_count": null,
   "metadata": {},
   "outputs": [],
   "source": [
    "# default_exp core"
   ]
  },
  {
   "cell_type": "markdown",
   "metadata": {},
   "source": [
    "# Learning\n",
    "\n",
    "```\n",
    "+---------------------------------------+\n",
    "|      __  __           _      _        |\n",
    "|     |  \\/  | ___   __| | ___| |       |\n",
    "|     | |\\/| |/ _ \\ / _` |/ _ \\ |       |\n",
    "|     | |  | | (_) | (_| |  __/ |       |\n",
    "|     |_|  |_|\\___/ \\__,_|\\___|_|       +--------------------------------------------+\n",
    "|                                       |                                            |\n",
    "|           e.g:                        |                                            |\n",
    "|           Convolutional Net           |                                            |\n",
    "|           Transformer/RNN             |                                            |\n",
    "|           Graph Neural Net            |                                            |\n",
    "|           Decision Tree               |                                            |\n",
    "+---------------------------------------+                                            |\n",
    "                                                                                     v\n",
    "                                                                      +--------------+--------------+\n",
    "+---------------------------------------+                             |                             |\n",
    "|         _____         _               |                             |    _____          _         |\n",
    "|        |_   _|_ _ ___| | __           |                             |   |_   _| __ __ _(_)_ __    |\n",
    "|          | |/ _` / __| |/ /           |                             |     | || '__/ _` | | '_ \\   |\n",
    "|          | | (_| \\__ \\   <            |                             |     | || | | (_| | | | | |  |\n",
    "|          |_|\\__,_|___/_|\\_\\           |                             |     |_||_|  \\__,_|_|_| |_|  |\n",
    "|                                       +---------------------------->+                             |\n",
    "|          e.g:                         |                             |      Optimizer              |\n",
    "|          Classification,              |                             |      LR schedule            |\n",
    "|          Detection,                   |                             |      Regularize             |\n",
    "|          Learning Embeddings          |                             |                             |\n",
    "|                                       |                             |                             |\n",
    "+---------------------------------------+                             +---------------+-------------+\n",
    "                                                                                      ^\n",
    "                                                                                      |\n",
    "+---------------------------------------+                                             |\n",
    "|   __  __      _   _               _   |                                             |\n",
    "|  |  \\/  | ___| |_| |__   ___   __| |  |                                             |\n",
    "|  | |\\/| |/ _ \\ __| '_ \\ / _ \\ / _` |  |                                             |\n",
    "|  | |  | |  __/ |_| | | | (_) | (_| |  |                                             |\n",
    "|  |_|  |_|\\___|\\__|_| |_|\\___/ \\__,_|  |                                             |\n",
    "|                                       |                                             |\n",
    "|        e.g                            +---------------------------------------------+\n",
    "|        Supervised Learning,           |\n",
    "|        Self-Super^ersion,             |\n",
    "|        Semi-Supervised, Transfer,     |\n",
    "|        Multitask Learning             |\n",
    "|                                       |\n",
    "+---------------------------------------+\n",
    "\n",
    "```\n",
    "> API details."
   ]
  },
  {
   "cell_type": "code",
   "execution_count": 2,
   "metadata": {},
   "outputs": [],
   "source": [
    "#hide\n",
    "\n",
    "from nbdev.showdoc import *"
   ]
  }
 ],
 "metadata": {
  "kernelspec": {
   "display_name": "conda_pytorch_p36",
   "language": "python",
   "name": "conda_pytorch_p36"
  },
  "language_info": {
   "codemirror_mode": {
    "name": "ipython",
    "version": 3
   },
   "file_extension": ".py",
   "mimetype": "text/x-python",
   "name": "python",
   "nbconvert_exporter": "python",
   "pygments_lexer": "ipython3",
   "version": "3.6.5"
  }
 },
 "nbformat": 4,
 "nbformat_minor": 4
}
