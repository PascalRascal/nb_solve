{
 "cells": [
  {
   "cell_type": "code",
   "execution_count": null,
   "metadata": {},
   "outputs": [],
   "source": [
    "# default_exp core"
   ]
  },
  {
   "cell_type": "markdown",
   "metadata": {},
   "source": [
    "# Data\n",
    "Getting Data\n",
    "```\n",
    " +------------+       +-------+      +------------------+\n",
    " |            |       |       |      |                  |\n",
    " |            |       |       |      |  Preprocess and  |\n",
    " |  Pull Raw  |       |       |      |      Augment     |\n",
    " |    Data    +------>+ Label +----->+                  |\n",
    " |            |       |       |      |                  |\n",
    " |            |       |       |      |                  |\n",
    " +------------+       +-------+      +------------------+\n",
    "       |                  |                   |\n",
    "       |                  |                   |\n",
    "       |                  |                   |\n",
    "       |                  |                   |\n",
    "       v                  v                   v\n",
    " +-----------------------------+     +------------------+\n",
    " |                             |     |                  |\n",
    " | Visualize                   |     |  Visualization & |\n",
    " |                             |     |  Simple Testing  |\n",
    " +-----------------------------+     +------------------+\n",
    "```"
   ]
  },
  {
   "cell_type": "code",
   "execution_count": 2,
   "metadata": {},
   "outputs": [],
   "source": []
  }
 ],
 "metadata": {
  "kernelspec": {
   "display_name": "conda_pytorch_p36",
   "language": "python",
   "name": "conda_pytorch_p36"
  },
  "language_info": {
   "codemirror_mode": {
    "name": "ipython",
    "version": 3
   },
   "file_extension": ".py",
   "mimetype": "text/x-python",
   "name": "python",
   "nbconvert_exporter": "python",
   "pygments_lexer": "ipython3",
   "version": "3.6.5"
  }
 },
 "nbformat": 4,
 "nbformat_minor": 4
}
